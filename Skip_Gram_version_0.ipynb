{
  "nbformat": 4,
  "nbformat_minor": 0,
  "metadata": {
    "colab": {
      "name": "Skip-Gram version-2",
      "provenance": [],
      "collapsed_sections": [],
      "authorship_tag": "ABX9TyOH4JFyveEr2ntRllG8MALR",
      "include_colab_link": true
    },
    "kernelspec": {
      "name": "python3",
      "display_name": "Python 3"
    },
    "accelerator": "GPU"
  },
  "cells": [
    {
      "cell_type": "markdown",
      "metadata": {
        "id": "view-in-github",
        "colab_type": "text"
      },
      "source": [
        "<a href=\"https://colab.research.google.com/github/cr0wley-zz/2-Player-Tennis/blob/master/Skip_Gram_version_0.ipynb\" target=\"_parent\"><img src=\"https://colab.research.google.com/assets/colab-badge.svg\" alt=\"Open In Colab\"/></a>"
      ]
    },
    {
      "cell_type": "code",
      "metadata": {
        "id": "R77a_SJdI-H6"
      },
      "source": [
        "import numpy as np\n",
        "import tensorflow as tf\n",
        "from tqdm import tqdm\n",
        "import matplotlib.pyplot as plt\n",
        "import urllib.request\n",
        "%matplotlib inline"
      ],
      "execution_count": null,
      "outputs": []
    },
    {
      "cell_type": "code",
      "metadata": {
        "id": "nyf1llS6I_58",
        "outputId": "9d8ffabc-97af-4866-a2e1-b9683784d3a9",
        "colab": {
          "base_uri": "https://localhost:8080/"
        }
      },
      "source": [
        "url = 'https://storage.googleapis.com/download.tensorflow.org/data/shakespeare.txt'\n",
        "filename = 'input.txt'\n",
        "urllib.request.urlretrieve(url, filename)"
      ],
      "execution_count": null,
      "outputs": [
        {
          "output_type": "execute_result",
          "data": {
            "text/plain": [
              "('input.txt', <http.client.HTTPMessage at 0x7f174a5b1f28>)"
            ]
          },
          "metadata": {
            "tags": []
          },
          "execution_count": 2
        }
      ]
    },
    {
      "cell_type": "code",
      "metadata": {
        "id": "SAHIr_t1Jv3C",
        "outputId": "75d18222-002d-4fd4-da3f-40d287372275",
        "colab": {
          "base_uri": "https://localhost:8080/"
        }
      },
      "source": [
        "text = open('input.txt','r').read()\n",
        "tokenized_text = tf.keras.preprocessing.text.text_to_word_sequence(text)[:5000]\n",
        "vocab = sorted(set(tokenized_text))\n",
        "vocab_size = len(vocab)\n",
        "print('Vocab Size: {}'.format(len(vocab)))"
      ],
      "execution_count": null,
      "outputs": [
        {
          "output_type": "stream",
          "text": [
            "Vocab Size: 1389\n"
          ],
          "name": "stdout"
        }
      ]
    },
    {
      "cell_type": "code",
      "metadata": {
        "id": "6GRI7lEvJ3UD"
      },
      "source": [
        "vocab_to_ix = {c:ix for ix,c in enumerate(vocab)}\n",
        "ix_to_vocab = np.array(vocab)\n",
        "text_as_int = np.array([vocab_to_ix[c] for c in tokenized_text])"
      ],
      "execution_count": null,
      "outputs": []
    },
    {
      "cell_type": "code",
      "metadata": {
        "id": "9cHAQxtZJ6db"
      },
      "source": [
        "EMBEDDING_SIZE = 500\n",
        "embedding_matrix_enc =  tf.Variable(np.random.rand(EMBEDDING_SIZE, vocab_size))"
      ],
      "execution_count": null,
      "outputs": []
    },
    {
      "cell_type": "code",
      "metadata": {
        "id": "oom8F-Hy5c4f"
      },
      "source": [
        "dec_matrix_1 = tf.Variable(np.random.rand(vocab_size, EMBEDDING_SIZE))\n",
        "dec_matrix_2 = tf.Variable(np.random.rand(vocab_size, EMBEDDING_SIZE))\n",
        "dec_matrix_3 = tf.Variable(np.random.rand(vocab_size, EMBEDDING_SIZE))\n",
        "dec_matrix_4 = tf.Variable(np.random.rand(vocab_size, EMBEDDING_SIZE))\n"
      ],
      "execution_count": null,
      "outputs": []
    },
    {
      "cell_type": "code",
      "metadata": {
        "id": "maGE83aqk9BV"
      },
      "source": [
        "dec_list = []\n",
        "\n",
        "for i in range(0,4):\n",
        "  dec_list.append( tf.Variable(np.random.rand(vocab_size, EMBEDDING_SIZE)))\n",
        "dec_list = np.array(dec_list)"
      ],
      "execution_count": null,
      "outputs": []
    },
    {
      "cell_type": "code",
      "metadata": {
        "id": "MxfcrsGFkk6A"
      },
      "source": [
        "data = []\n",
        "\n",
        "for i in range(2, len(text_as_int) - 5):\n",
        "    target = np.array([text_as_int[i-2], text_as_int[i-1],\n",
        "               text_as_int[i+1], text_as_int[i+2]])\n",
        "    context = text_as_int[i]\n",
        "    data.append((context, target))"
      ],
      "execution_count": null,
      "outputs": []
    },
    {
      "cell_type": "code",
      "metadata": {
        "id": "olxy2Cewk00W"
      },
      "source": [
        "def encoding(contxt,enc_matrix):\n",
        "  sm = 0\n",
        "  sm =  enc_matrix[:,contxt]\n",
        "  return sm  "
      ],
      "execution_count": null,
      "outputs": []
    },
    {
      "cell_type": "code",
      "metadata": {
        "id": "cuUpxnuvnvRP"
      },
      "source": [
        "def decoding(embeddings):\n",
        "  \n",
        "  output_1 = tf.matmul(dec_matrix_1, embeddings)\n",
        "  output_2 = tf.matmul(dec_matrix_2, embeddings)\n",
        "  output_3 = tf.matmul(dec_matrix_3, embeddings)\n",
        "  output_4 = tf.matmul(dec_matrix_4, embeddings)\n",
        "\n",
        "\n",
        "  return (output_1,output_2,output_3,output_4)"
      ],
      "execution_count": null,
      "outputs": []
    },
    {
      "cell_type": "code",
      "metadata": {
        "id": "LT9pepdvs1Dc"
      },
      "source": [
        "def loss(target, dec_out_list):\n",
        "  losses = []\n",
        "  for i,j in zip(target, dec_out_list):\n",
        "    losses.append( tf.subtract(i,j))\n",
        "  return losses  "
      ],
      "execution_count": null,
      "outputs": []
    },
    {
      "cell_type": "code",
      "metadata": {
        "id": "WIcYq4KDvzZ3"
      },
      "source": [
        "def train_step(cntxt, trgt):\n",
        "\n",
        "  with tf.GradientTape() as tape:\n",
        "    enc = encoding(cntxt,embedding_matrix_enc)\n",
        "    dec = decoding(tf.reshape(enc, (-1, 1)))\n",
        "    l = loss(dec, trgt)\n",
        "\n",
        "      \n",
        "  grad = tape.gradient(l, [embedding_matrix_enc, dec_matrix_1,dec_matrix_2,dec_matrix_3,dec_matrix_4])\n",
        "  opt.apply_gradients(zip(grad, [embedding_matrix_enc, dec_matrix_1,dec_matrix_2,dec_matrix_3,dec_matrix_4]))"
      ],
      "execution_count": null,
      "outputs": []
    },
    {
      "cell_type": "code",
      "metadata": {
        "id": "mCj-lK-hwoUV",
        "outputId": "eadd3c0c-3906-4da5-8f94-49f4a88f31ae",
        "colab": {
          "base_uri": "https://localhost:8080/"
        }
      },
      "source": [
        "epochs = 1\n",
        "\n",
        "opt = tf.keras.optimizers.SGD(learning_rate=0.01)\n",
        "for i in tqdm(range(epochs)):\n",
        "    for cntxt, trgt in data:\n",
        "        train_step(cntxt, trgt)"
      ],
      "execution_count": null,
      "outputs": [
        {
          "output_type": "stream",
          "text": [
            "100%|██████████| 1/1 [00:21<00:00, 21.25s/it]\n"
          ],
          "name": "stderr"
        }
      ]
    },
    {
      "cell_type": "code",
      "metadata": {
        "id": "fe3JqdWU32sY",
        "outputId": "7413953e-c0d4-4e09-de6d-f67d1e13e611",
        "colab": {
          "base_uri": "https://localhost:8080/"
        }
      },
      "source": [
        "a"
      ],
      "execution_count": null,
      "outputs": [
        {
          "output_type": "execute_result",
          "data": {
            "text/plain": [
              "<tf.Variable 'Variable:0' shape=() dtype=int32, numpy=1>"
            ]
          },
          "metadata": {
            "tags": []
          },
          "execution_count": 3
        }
      ]
    },
    {
      "cell_type": "code",
      "metadata": {
        "id": "qHhF08JZ33em"
      },
      "source": [
        ""
      ],
      "execution_count": null,
      "outputs": []
    }
  ]
}