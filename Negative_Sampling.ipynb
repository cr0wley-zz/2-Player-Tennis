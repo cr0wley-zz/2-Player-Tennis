{
  "nbformat": 4,
  "nbformat_minor": 0,
  "metadata": {
    "colab": {
      "name": "Negative_Sampling.ipynb",
      "provenance": [],
      "collapsed_sections": [],
      "authorship_tag": "ABX9TyPu7fhTzak54og6fQZtDfbr"
    },
    "kernelspec": {
      "name": "python3",
      "display_name": "Python 3"
    },
    "widgets": {
      "application/vnd.jupyter.widget-state+json": {}
    }
  },
  "cells": [
    {
      "cell_type": "code",
      "metadata": {
        "id": "SWLFEhqxu3fg"
      },
      "source": [
        "import numpy as np\n",
        "import tensorflow as tf\n",
        "from tqdm import tqdm\n",
        "import matplotlib.pyplot as plt"
      ],
      "execution_count": 28,
      "outputs": []
    },
    {
      "cell_type": "code",
      "metadata": {
        "id": "rCLoPbuakRKx"
      },
      "source": [
        "!pip install wandb  \n",
        "import wandb"
      ],
      "execution_count": null,
      "outputs": []
    },
    {
      "cell_type": "code",
      "metadata": {
        "colab": {
          "base_uri": "https://localhost:8080/"
        },
        "id": "Qq6ObXnDkR6t",
        "outputId": "190fd19d-6242-497d-867a-aef5ada00db7"
      },
      "source": [
        "wandb.login()"
      ],
      "execution_count": 30,
      "outputs": [
        {
          "output_type": "stream",
          "text": [
            "\u001b[34m\u001b[1mwandb\u001b[0m: \u001b[33mWARNING\u001b[0m Calling wandb.login() after wandb.init() has no effect.\n"
          ],
          "name": "stderr"
        },
        {
          "output_type": "execute_result",
          "data": {
            "text/plain": [
              "True"
            ]
          },
          "metadata": {
            "tags": []
          },
          "execution_count": 30
        }
      ]
    },
    {
      "cell_type": "code",
      "metadata": {
        "id": "Kr-BjSv1u7Su"
      },
      "source": [
        "data = \"\"\"\n",
        "Marie Curie was one of the most accomplished scientists in history. Together with her husband, Pierre, she discovered radium, an element widely used for treating cancer, and studied uranium and other radioactive substances. Pierre and Marie’s amicable collaboration later helped to unlock the secrets of the atom.\n",
        "\n",
        "Marie was born in 1867 in Warsaw, Poland, where her father was a professor of physics. At an early age, she displayed a brilliant mind and a blithe personality. Her great exuberance for learning prompted her to continue with her studies after high school. She became disgruntled, however, when she learned that the university in Warsaw was closed to women. Determined to receive a higher education, she defiantly left Poland and in 1891 entered the Sorbonne, a French university, where she earned her master’s degree and doctorate in physics.\n",
        "\n",
        "Marie was fortunate to have studied at the Sorbonne with some of the greatest scientists of her day, one of whom was Pierre Curie. Marie and Pierre were married in 1895 and spent many productive years working together in the physics laboratory. A short time after they discovered radium, Pierre was killed by a horse-drawn wagon in 1906. Marie was stunned by this horrible misfortune and endured heartbreaking anguish. Despondently she recalled their close relationship and the joy that they had shared in scientific research. The fact that she had two young daughters to raise by herself greatly increased her distress.\n",
        "\n",
        "Curie’s feeling of desolation finally began to fade when she was asked to succeed her husband as a physics professor at the Sorbonne. She was the first woman to be given a professorship at the world-famous university. In 1911 she received the Nobel Prize in chemistry for isolating radium. Although Marie Curie eventually suffered a fatal illness from her long exposure to radium, she never became disillusioned about her work. Regardless of the consequences, she had dedicated herself to science and to revealing the mysteries of the physical world.\n",
        "\"\"\""
      ],
      "execution_count": 31,
      "outputs": []
    },
    {
      "cell_type": "code",
      "metadata": {
        "colab": {
          "base_uri": "https://localhost:8080/"
        },
        "id": "H5Yqbe-avQFh",
        "outputId": "eac98b40-e27f-416b-879e-8b7359ad693a"
      },
      "source": [
        "# Converts the data into tokens\n",
        "tokenized_text = tf.keras.preprocessing.text.text_to_word_sequence(data)\n",
        "tokenized_text_size = len(tokenized_text)\n",
        "# Creates a vocab of unique words\n",
        "vocab = sorted(set(tokenized_text))\n",
        "vocab_size = len(vocab)\n",
        "print('Vocab Size: {}'.format(len(vocab)))"
      ],
      "execution_count": 32,
      "outputs": [
        {
          "output_type": "stream",
          "text": [
            "Vocab Size: 181\n"
          ],
          "name": "stdout"
        }
      ]
    },
    {
      "cell_type": "code",
      "metadata": {
        "id": "hmCD5qJfvA-V"
      },
      "source": [
        "# Map the vocab words to individual indices\n",
        "vocab_to_ix = {c:ix for ix,c in enumerate(vocab)}\n",
        "# Map the indices to the words in vocab\n",
        "ix_to_vocab = np.array(vocab)\n",
        "# Convert the data into numbers\n",
        "text_as_int = np.array([vocab_to_ix[c] for c in tokenized_text])"
      ],
      "execution_count": 33,
      "outputs": []
    },
    {
      "cell_type": "code",
      "metadata": {
        "id": "Wrdd6B8jvNzM"
      },
      "source": [
        "EMBEDDING_SIZE = 8\n",
        "WINDOW_SIZE = 5\n",
        "opt = tf.optimizers.Adam()\n",
        "iterations = 100\n",
        "\n",
        "# Here the word vectors are represented as row\n",
        "context_vector =  tf.Variable(np.random.rand(vocab_size, EMBEDDING_SIZE))\n",
        "center_vector = tf.Variable(np.random.rand(vocab_size, EMBEDDING_SIZE))"
      ],
      "execution_count": 34,
      "outputs": []
    },
    {
      "cell_type": "code",
      "metadata": {
        "colab": {
          "base_uri": "https://localhost:8080/",
          "height": 1000,
          "referenced_widgets": [
            "a8abd49b25c44808acb452ee8368ebf5"
          ]
        },
        "id": "TMsdkLZWzD4f",
        "outputId": "30e01090-4942-4111-8c4f-bd7529dc07b3"
      },
      "source": [
        "wandb.init(entity=\"authors\", project=\"embeddings-2\", name=\"skip-gram (Negative Sampling)-2\")"
      ],
      "execution_count": 35,
      "outputs": [
        {
          "output_type": "display_data",
          "data": {
            "text/html": [
              "Finishing last run (ID:18i4om5o) before initializing another..."
            ],
            "text/plain": [
              "<IPython.core.display.HTML object>"
            ]
          },
          "metadata": {
            "tags": []
          }
        },
        {
          "output_type": "display_data",
          "data": {
            "text/html": [
              "<br/>Waiting for W&B process to finish, PID 220<br/>Program ended successfully."
            ],
            "text/plain": [
              "<IPython.core.display.HTML object>"
            ]
          },
          "metadata": {
            "tags": []
          }
        },
        {
          "output_type": "display_data",
          "data": {
            "application/vnd.jupyter.widget-view+json": {
              "model_id": "a8abd49b25c44808acb452ee8368ebf5",
              "version_minor": 0,
              "version_major": 2
            },
            "text/plain": [
              "VBox(children=(Label(value=' 0.46MB of 0.46MB uploaded (0.00MB deduped)\\r'), FloatProgress(value=1.0, max=1.0)…"
            ]
          },
          "metadata": {
            "tags": []
          }
        },
        {
          "output_type": "display_data",
          "data": {
            "text/html": [
              "Find user logs for this run at: <code>/content/wandb/run-20201130_191848-18i4om5o/logs/debug.log</code>"
            ],
            "text/plain": [
              "<IPython.core.display.HTML object>"
            ]
          },
          "metadata": {
            "tags": []
          }
        },
        {
          "output_type": "display_data",
          "data": {
            "text/html": [
              "Find internal logs for this run at: <code>/content/wandb/run-20201130_191848-18i4om5o/logs/debug-internal.log</code>"
            ],
            "text/plain": [
              "<IPython.core.display.HTML object>"
            ]
          },
          "metadata": {
            "tags": []
          }
        },
        {
          "output_type": "display_data",
          "data": {
            "text/html": [
              "<h3>Run summary:</h3><br/><style>\n",
              "    table.wandb td:nth-child(1) { padding: 0 10px; text-align: right }\n",
              "    </style><table class=\"wandb\">\n",
              "<tr><td>loss</td><td>10.10183</td></tr><tr><td>_step</td><td>16151</td></tr><tr><td>_runtime</td><td>182</td></tr><tr><td>_timestamp</td><td>1606764114</td></tr></table>"
            ],
            "text/plain": [
              "<IPython.core.display.HTML object>"
            ]
          },
          "metadata": {
            "tags": []
          }
        },
        {
          "output_type": "display_data",
          "data": {
            "text/html": [
              "<h3>Run history:</h3><br/><style>\n",
              "    table.wandb td:nth-child(1) { padding: 0 10px; text-align: right }\n",
              "    </style><table class=\"wandb\">\n",
              "<tr><td>loss</td><td>█▆▇█▅▅▄▄▄▄▄▃▃▃▃▂▂▂▂▁▂▂▁▂▂▂▂▁▂▁▁▂▂▁▂▂▁▁▂▁</td></tr><tr><td>_step</td><td>▁▁▁▂▂▂▂▂▂▃▃▃▃▃▃▄▄▄▄▄▅▅▅▅▅▅▆▆▆▆▆▇▇▇▇▇▇███</td></tr><tr><td>_runtime</td><td>▁▁▁▁▂▂▂▂▃▃▃▃▃▃▄▄▄▄▄▄▅▅▅▅▅▆▆▆▆▆▆▇▇▇▇▇▇███</td></tr><tr><td>_timestamp</td><td>▁▁▁▁▂▂▂▂▃▃▃▃▃▃▄▄▄▄▄▄▅▅▅▅▅▆▆▆▆▆▆▇▇▇▇▇▇███</td></tr></table><br/>"
            ],
            "text/plain": [
              "<IPython.core.display.HTML object>"
            ]
          },
          "metadata": {
            "tags": []
          }
        },
        {
          "output_type": "display_data",
          "data": {
            "text/html": [
              "Synced 5 W&B file(s), 2 media file(s), 0 artifact file(s) and 0 other file(s)"
            ],
            "text/plain": [
              "<IPython.core.display.HTML object>"
            ]
          },
          "metadata": {
            "tags": []
          }
        },
        {
          "output_type": "display_data",
          "data": {
            "text/html": [
              "\n",
              "                    <br/>Synced <strong style=\"color:#cdcd00\">skip-gram (Negative Sampling)</strong>: <a href=\"https://wandb.ai/authors/embeddings-2/runs/18i4om5o\" target=\"_blank\">https://wandb.ai/authors/embeddings-2/runs/18i4om5o</a><br/>\n",
              "                "
            ],
            "text/plain": [
              "<IPython.core.display.HTML object>"
            ]
          },
          "metadata": {
            "tags": []
          }
        },
        {
          "output_type": "display_data",
          "data": {
            "text/html": [
              "...Successfully finished last run (ID:18i4om5o). Initializing new run:<br/><br/>"
            ],
            "text/plain": [
              "<IPython.core.display.HTML object>"
            ]
          },
          "metadata": {
            "tags": []
          }
        },
        {
          "output_type": "display_data",
          "data": {
            "text/html": [
              "\n",
              "                Tracking run with wandb version 0.10.11<br/>\n",
              "                Syncing run <strong style=\"color:#cdcd00\">skip-gram (Negative Sampling)-2</strong> to <a href=\"https://wandb.ai\" target=\"_blank\">Weights & Biases</a> <a href=\"https://docs.wandb.com/integrations/jupyter.html\" target=\"_blank\">(Documentation)</a>.<br/>\n",
              "                Project page: <a href=\"https://wandb.ai/authors/embeddings-2\" target=\"_blank\">https://wandb.ai/authors/embeddings-2</a><br/>\n",
              "                Run page: <a href=\"https://wandb.ai/authors/embeddings-2/runs/1emxvlcw\" target=\"_blank\">https://wandb.ai/authors/embeddings-2/runs/1emxvlcw</a><br/>\n",
              "                Run data is saved locally in <code>/content/wandb/run-20201130_201338-1emxvlcw</code><br/><br/>\n",
              "            "
            ],
            "text/plain": [
              "<IPython.core.display.HTML object>"
            ]
          },
          "metadata": {
            "tags": []
          }
        },
        {
          "output_type": "execute_result",
          "data": {
            "text/plain": [
              "<wandb.sdk.wandb_run.Run at 0x7f8805208358>"
            ],
            "text/html": [
              "<h1>Run(1emxvlcw)</h1><p></p><iframe src=\"https://wandb.ai/authors/embeddings-2/runs/1emxvlcw\" style=\"border:none;width:100%;height:400px\"></iframe>"
            ]
          },
          "metadata": {
            "tags": []
          },
          "execution_count": 35
        }
      ]
    },
    {
      "cell_type": "code",
      "metadata": {
        "id": "WGwwd6nfvWyF"
      },
      "source": [
        "def train_step(indices, loss_list):\n",
        "  \"\"\"The training step\n",
        "\n",
        "  Arguments:\n",
        "    indices (list): The indices of the vocab in the window\n",
        "  \"\"\"\n",
        "  \n",
        "  with tf.GradientTape() as tape:\n",
        "    loss = tf.Variable(0.0, dtype = tf.float64)\n",
        "    v_center = tf.expand_dims(center_vector[ indices[WINDOW_SIZE//2],:],1)\n",
        "\n",
        "    index_context = list(filter(lambda x: x not in indices, list(range(vocab_size))))\n",
        "    rand_neg_indices = np.random.choice(index_context, 10, replace = False)\n",
        "\n",
        "    v_context_negative = tf.gather(context_vector, rand_neg_indices)\n",
        "    v_context_positive = tf.gather(context_vector , indices)\n",
        "\n",
        "    output_negative = tf.reduce_sum(tf.math.log(tf.math.sigmoid(tf.math.negative(tf.matmul(v_context_negative, v_center)))))\n",
        "    \n",
        "    for i in v_context_positive:\n",
        "      loss = loss - tf.reduce_sum(tf.math.log(tf.math.sigmoid(tf.matmul(tf.transpose(tf.expand_dims(i,1)), v_center)))) - output_negative\n",
        "\n",
        "  loss_list.append(np.array(loss))\n",
        "  wandb.log({\"loss\":np.array(loss)})\n",
        "  grad = tape.gradient(loss, [context_vector, center_vector])\n",
        "  opt.apply_gradients(zip(grad, [context_vector, center_vector]))"
      ],
      "execution_count": 36,
      "outputs": []
    },
    {
      "cell_type": "code",
      "metadata": {
        "colab": {
          "base_uri": "https://localhost:8080/"
        },
        "id": "XTdJEaaSvaol",
        "outputId": "cd35f38f-1582-4db4-d053-ac6d0bdc3ce9"
      },
      "source": [
        "loss_list = []\n",
        "for iter in tqdm(range(iterations)):\n",
        "  # Creation of window\n",
        "  for start in range(tokenized_text_size-WINDOW_SIZE):\n",
        "    indices = text_as_int[start:start+WINDOW_SIZE] \n",
        "    train_step(indices, loss_list)"
      ],
      "execution_count": 37,
      "outputs": [
        {
          "output_type": "stream",
          "text": [
            "\n",
            "  0%|          | 0/100 [00:00<?, ?it/s]\u001b[A\n",
            "  1%|          | 1/100 [00:03<05:57,  3.62s/it]\u001b[A\n",
            "  2%|▏         | 2/100 [00:07<05:58,  3.66s/it]\u001b[A\n",
            "  3%|▎         | 3/100 [00:10<05:52,  3.64s/it]\u001b[A\n",
            "  4%|▍         | 4/100 [00:14<05:49,  3.64s/it]\u001b[A\n",
            "  5%|▌         | 5/100 [00:18<05:48,  3.67s/it]\u001b[A\n",
            "  6%|▌         | 6/100 [00:22<05:45,  3.68s/it]\u001b[A\n",
            "  7%|▋         | 7/100 [00:25<05:42,  3.68s/it]\u001b[A\n",
            "  8%|▊         | 8/100 [00:29<05:35,  3.65s/it]\u001b[A\n",
            "  9%|▉         | 9/100 [00:33<05:34,  3.67s/it]\u001b[A\n",
            " 10%|█         | 10/100 [00:36<05:28,  3.65s/it]\u001b[A\n",
            " 11%|█         | 11/100 [00:40<05:28,  3.69s/it]\u001b[A\n",
            " 12%|█▏        | 12/100 [00:44<05:25,  3.70s/it]\u001b[A\n",
            " 13%|█▎        | 13/100 [00:47<05:21,  3.70s/it]\u001b[A\n",
            " 14%|█▍        | 14/100 [00:51<05:18,  3.70s/it]\u001b[A\n",
            " 15%|█▌        | 15/100 [00:55<05:13,  3.69s/it]\u001b[A\n",
            " 16%|█▌        | 16/100 [00:58<05:09,  3.68s/it]\u001b[A\n",
            " 17%|█▋        | 17/100 [01:02<05:03,  3.65s/it]\u001b[A\n",
            " 18%|█▊        | 18/100 [01:06<04:59,  3.66s/it]\u001b[A\n",
            " 19%|█▉        | 19/100 [01:09<05:01,  3.72s/it]\u001b[A\n",
            " 20%|██        | 20/100 [01:13<05:00,  3.76s/it]\u001b[A\n",
            " 21%|██        | 21/100 [01:17<04:58,  3.78s/it]\u001b[A\n",
            " 22%|██▏       | 22/100 [01:21<04:52,  3.75s/it]\u001b[A\n",
            " 23%|██▎       | 23/100 [01:25<04:48,  3.75s/it]\u001b[A\n",
            " 24%|██▍       | 24/100 [01:28<04:46,  3.77s/it]\u001b[A\n",
            " 25%|██▌       | 25/100 [01:32<04:43,  3.78s/it]\u001b[A\n",
            " 26%|██▌       | 26/100 [01:36<04:37,  3.75s/it]\u001b[A\n",
            " 27%|██▋       | 27/100 [01:40<04:31,  3.72s/it]\u001b[A\n",
            " 28%|██▊       | 28/100 [01:43<04:26,  3.70s/it]\u001b[A\n",
            " 29%|██▉       | 29/100 [01:47<04:24,  3.72s/it]\u001b[A\n",
            " 30%|███       | 30/100 [01:51<04:19,  3.71s/it]\u001b[A\n",
            " 31%|███       | 31/100 [01:54<04:16,  3.71s/it]\u001b[A\n",
            " 32%|███▏      | 32/100 [01:58<04:11,  3.69s/it]\u001b[A\n",
            " 33%|███▎      | 33/100 [02:02<04:06,  3.67s/it]\u001b[A\n",
            " 34%|███▍      | 34/100 [02:05<04:01,  3.66s/it]\u001b[A\n",
            " 35%|███▌      | 35/100 [02:09<03:57,  3.65s/it]\u001b[A\n",
            " 36%|███▌      | 36/100 [02:12<03:52,  3.63s/it]\u001b[A\n",
            " 37%|███▋      | 37/100 [02:16<03:48,  3.62s/it]\u001b[A\n",
            " 38%|███▊      | 38/100 [02:20<03:44,  3.62s/it]\u001b[A\n",
            " 39%|███▉      | 39/100 [02:23<03:42,  3.65s/it]\u001b[A\n",
            " 40%|████      | 40/100 [02:27<03:39,  3.65s/it]\u001b[A\n",
            " 41%|████      | 41/100 [02:31<03:33,  3.62s/it]\u001b[A\n",
            " 42%|████▏     | 42/100 [02:34<03:30,  3.63s/it]\u001b[A\n",
            " 43%|████▎     | 43/100 [02:38<03:27,  3.63s/it]\u001b[A\n",
            " 44%|████▍     | 44/100 [02:42<03:24,  3.66s/it]\u001b[A\n",
            " 45%|████▌     | 45/100 [02:45<03:21,  3.67s/it]\u001b[A\n",
            " 46%|████▌     | 46/100 [02:49<03:17,  3.66s/it]\u001b[A\n",
            " 47%|████▋     | 47/100 [02:53<03:13,  3.65s/it]\u001b[A\n",
            " 48%|████▊     | 48/100 [02:56<03:10,  3.66s/it]\u001b[A\n",
            " 49%|████▉     | 49/100 [03:00<03:08,  3.69s/it]\u001b[A\n",
            " 50%|█████     | 50/100 [03:04<03:03,  3.68s/it]\u001b[A\n",
            " 51%|█████     | 51/100 [03:07<02:58,  3.64s/it]\u001b[A\n",
            " 52%|█████▏    | 52/100 [03:11<02:54,  3.64s/it]\u001b[A\n",
            " 53%|█████▎    | 53/100 [03:15<02:51,  3.66s/it]\u001b[A\n",
            " 54%|█████▍    | 54/100 [03:18<02:48,  3.66s/it]\u001b[A\n",
            " 55%|█████▌    | 55/100 [03:22<02:44,  3.66s/it]\u001b[A\n",
            " 56%|█████▌    | 56/100 [03:25<02:40,  3.64s/it]\u001b[A\n",
            " 57%|█████▋    | 57/100 [03:29<02:35,  3.61s/it]\u001b[A\n",
            " 58%|█████▊    | 58/100 [03:33<02:30,  3.59s/it]\u001b[A\n",
            " 59%|█████▉    | 59/100 [03:36<02:27,  3.60s/it]\u001b[A\n",
            " 60%|██████    | 60/100 [03:40<02:25,  3.64s/it]\u001b[A\n",
            " 61%|██████    | 61/100 [03:44<02:21,  3.63s/it]\u001b[A\n",
            " 62%|██████▏   | 62/100 [03:47<02:16,  3.59s/it]\u001b[A\n",
            " 63%|██████▎   | 63/100 [03:51<02:12,  3.57s/it]\u001b[A\n",
            " 64%|██████▍   | 64/100 [03:54<02:07,  3.55s/it]\u001b[A\n",
            " 65%|██████▌   | 65/100 [03:58<02:05,  3.58s/it]\u001b[A\n",
            " 66%|██████▌   | 66/100 [04:01<02:03,  3.63s/it]\u001b[A\n",
            " 67%|██████▋   | 67/100 [04:05<02:01,  3.67s/it]\u001b[A\n",
            " 68%|██████▊   | 68/100 [04:09<01:58,  3.72s/it]\u001b[A\n",
            " 69%|██████▉   | 69/100 [04:13<01:54,  3.70s/it]\u001b[A\n",
            " 70%|███████   | 70/100 [04:16<01:50,  3.68s/it]\u001b[A\n",
            " 71%|███████   | 71/100 [04:20<01:45,  3.63s/it]\u001b[A\n",
            " 72%|███████▏  | 72/100 [04:23<01:40,  3.59s/it]\u001b[A\n",
            " 73%|███████▎  | 73/100 [04:27<01:37,  3.59s/it]\u001b[A\n",
            " 74%|███████▍  | 74/100 [04:30<01:32,  3.57s/it]\u001b[A\n",
            " 75%|███████▌  | 75/100 [04:34<01:29,  3.59s/it]\u001b[A\n",
            " 76%|███████▌  | 76/100 [04:38<01:28,  3.67s/it]\u001b[A\n",
            " 77%|███████▋  | 77/100 [04:42<01:26,  3.77s/it]\u001b[A\n",
            " 78%|███████▊  | 78/100 [04:46<01:24,  3.86s/it]\u001b[A\n",
            " 79%|███████▉  | 79/100 [04:50<01:21,  3.86s/it]\u001b[A\n",
            " 80%|████████  | 80/100 [04:54<01:18,  3.95s/it]\u001b[A\n",
            " 81%|████████  | 81/100 [04:58<01:15,  3.99s/it]\u001b[A\n",
            " 82%|████████▏ | 82/100 [05:02<01:11,  3.96s/it]\u001b[A\n",
            " 83%|████████▎ | 83/100 [05:06<01:07,  3.96s/it]\u001b[A\n",
            " 84%|████████▍ | 84/100 [05:10<01:04,  4.04s/it]\u001b[A\n",
            " 85%|████████▌ | 85/100 [05:14<00:59,  4.00s/it]\u001b[A\n",
            " 86%|████████▌ | 86/100 [05:18<00:56,  4.03s/it]\u001b[A\n",
            " 87%|████████▋ | 87/100 [05:22<00:53,  4.10s/it]\u001b[A\n",
            " 88%|████████▊ | 88/100 [05:27<00:49,  4.13s/it]\u001b[A\n",
            " 89%|████████▉ | 89/100 [05:31<00:45,  4.10s/it]\u001b[A\n",
            " 90%|█████████ | 90/100 [05:35<00:41,  4.11s/it]\u001b[A\n",
            " 91%|█████████ | 91/100 [05:39<00:36,  4.05s/it]\u001b[A\n",
            " 92%|█████████▏| 92/100 [05:43<00:32,  4.04s/it]\u001b[A\n",
            " 93%|█████████▎| 93/100 [05:47<00:29,  4.15s/it]\u001b[A\n",
            " 94%|█████████▍| 94/100 [05:52<00:25,  4.21s/it]\u001b[A\n",
            " 95%|█████████▌| 95/100 [05:56<00:21,  4.24s/it]\u001b[A\n",
            " 96%|█████████▌| 96/100 [06:00<00:17,  4.32s/it]\u001b[A\n",
            " 97%|█████████▋| 97/100 [06:04<00:12,  4.22s/it]\u001b[A\n",
            " 98%|█████████▊| 98/100 [06:08<00:08,  4.11s/it]\u001b[A\n",
            " 99%|█████████▉| 99/100 [06:12<00:04,  4.09s/it]\u001b[A\n",
            "100%|██████████| 100/100 [06:16<00:00,  3.77s/it]\n"
          ],
          "name": "stderr"
        }
      ]
    },
    {
      "cell_type": "code",
      "metadata": {
        "id": "xBPhtdagvarg"
      },
      "source": [
        "fig = plt.figure()\n",
        "\n",
        "\n",
        "plt.plot(loss_list)\n",
        "wandb.log({\"loss (Negative_Sampling)\": fig}) \n",
        "plt.show()\n"
      ],
      "execution_count": 38,
      "outputs": []
    },
    {
      "cell_type": "code",
      "metadata": {
        "id": "qYWRvQDJmuMC",
        "colab": {
          "base_uri": "https://localhost:8080/",
          "height": 283
        },
        "outputId": "33b82215-b2c6-40f2-ad81-585604e95a46"
      },
      "source": [
        "plt.plot(loss_list)"
      ],
      "execution_count": 39,
      "outputs": [
        {
          "output_type": "execute_result",
          "data": {
            "text/plain": [
              "[<matplotlib.lines.Line2D at 0x7f8803df2e10>]"
            ]
          },
          "metadata": {
            "tags": []
          },
          "execution_count": 39
        },
        {
          "output_type": "display_data",
          "data": {
            "image/png": "[encoded data removed]",
            "text/plain": [
              "<Figure size 432x288 with 1 Axes>"
            ]
          },
          "metadata": {
            "tags": [],
            "needs_background": "light"
          }
        }
      ]
    },
    {
      "cell_type": "code",
      "metadata": {
        "id": "YiKwwXI2-sua"
      },
      "source": [
        "from sklearn.manifold import TSNE\n",
        "\n",
        "center_vector_embedded = TSNE(n_components=2).fit_transform(center_vector.numpy())"
      ],
      "execution_count": 40,
      "outputs": []
    },
    {
      "cell_type": "code",
      "metadata": {
        "id": "kXoUxwy4-2E6"
      },
      "source": [
        "fig = plt.figure(figsize=(15,5))\n",
        "count = 0\n",
        "for i,j in center_vector_embedded[:40]:\n",
        "  plt.scatter(i,j)\n",
        "  plt.text( i+0.01, j+0.01, ix_to_vocab[count])\n",
        "  count += 1\n",
        "wandb.log({\"Center Word Embeddings (Negative_Sampling)\": fig}) \n",
        "plt.show()"
      ],
      "execution_count": 41,
      "outputs": []
    },
    {
      "cell_type": "code",
      "metadata": {
        "id": "8R7njyxb-6sZ"
      },
      "source": [
        ""
      ],
      "execution_count": 41,
      "outputs": []
    }
  ]
}